{
 "cells": [
  {
   "cell_type": "markdown",
   "metadata": {},
   "source": [
    "# Encontro 02, Parte 5: Algoritmo de Kruskal\n",
    "\n",
    "Este guia foi escrito para ajudar você a atingir os seguintes objetivos:\n",
    "\n",
    "* implementar o algoritmo de Kruskal;\n",
    "* praticar o uso da biblioteca da disciplina.\n",
    "\n",
    "Primeiramente, vamos importar a biblioteca:"
   ]
  },
  {
   "cell_type": "code",
   "execution_count": 1,
   "metadata": {},
   "outputs": [
    {
     "data": {
      "text/html": [
       "<script>requirejs.config({paths: { 'plotly': ['https://cdn.plot.ly/plotly-latest.min']},});if(!window.Plotly) {{require(['plotly'],function(plotly) {window.Plotly=plotly;});}}</script>"
      ],
      "text/vnd.plotly.v1+html": [
       "<script>requirejs.config({paths: { 'plotly': ['https://cdn.plot.ly/plotly-latest.min']},});if(!window.Plotly) {{require(['plotly'],function(plotly) {window.Plotly=plotly;});}}</script>"
      ]
     },
     "metadata": {},
     "output_type": "display_data"
    }
   ],
   "source": [
    "import sys\n",
    "sys.path.append('..')\n",
    "\n",
    "import socnet as sn"
   ]
  },
  {
   "cell_type": "markdown",
   "metadata": {},
   "source": [
    "A seguir, vamos configurar as propriedades visuais:"
   ]
  },
  {
   "cell_type": "code",
   "execution_count": 2,
   "metadata": {
    "collapsed": true
   },
   "outputs": [],
   "source": [
    "sn.graph_width = 320\n",
    "sn.graph_height = 180"
   ]
  },
  {
   "cell_type": "markdown",
   "metadata": {},
   "source": [
    "Por fim, vamos carregar e visualizar um grafo:"
   ]
  },
  {
   "cell_type": "code",
   "execution_count": 3,
   "metadata": {},
   "outputs": [
    {
     "data": {
      "application/vnd.plotly.v1+json": {
       "data": [
        {
         "hoverinfo": "none",
         "line": {
          "color": "rgb(0, 0, 0)",
          "width": 2
         },
         "mode": "lines",
         "x": [
          0,
          0.25,
          null,
          0,
          0.25,
          null,
          0.25,
          0.5,
          null,
          0.25,
          0.25,
          null,
          0.5,
          0.375,
          null,
          0.5,
          0.75,
          null,
          0.5,
          0.75,
          null,
          0.75,
          1,
          null,
          0.75,
          0.75,
          null,
          1,
          0.75,
          null,
          0.75,
          0.5,
          null,
          0.5,
          0.375,
          null,
          0.5,
          0.25,
          null,
          0.25,
          0.375,
          null
         ],
         "y": [
          0.5,
          1,
          null,
          0.5,
          0,
          null,
          1,
          1,
          null,
          1,
          0,
          null,
          1,
          0.5,
          null,
          1,
          1,
          null,
          1,
          0,
          null,
          1,
          0.5,
          null,
          1,
          0,
          null,
          0.5,
          0,
          null,
          0,
          0,
          null,
          0,
          0.5,
          null,
          0,
          0,
          null,
          0,
          0.5,
          null
         ]
        },
        {
         "hoverinfo": "none",
         "marker": {
          "color": "rgb(255, 255, 255)",
          "line": {
           "color": "rgb(0, 0, 0)",
           "width": 2
          },
          "size": 20
         },
         "mode": "markers+text",
         "text": [],
         "textfont": {
          "color": "rgb(0, 0, 0)"
         },
         "textposition": "middle center",
         "x": [
          0,
          0.25,
          0.5,
          0.75,
          1,
          0.75,
          0.5,
          0.25,
          0.375
         ],
         "y": [
          0.5,
          1,
          1,
          1,
          0.5,
          0,
          0,
          0,
          0.5
         ]
        },
        {
         "hoverinfo": "none",
         "mode": "text",
         "text": [
          4,
          8,
          8,
          11,
          2,
          7,
          4,
          9,
          14,
          10,
          2,
          6,
          1,
          7
         ],
         "textfont": {
          "color": "rgb(0, 0, 0)"
         },
         "textposition": "middle center",
         "x": [
          0.08835225700681207,
          0.16164774299318793,
          0.375,
          0.2878787878787879,
          0.4750594305323629,
          0.625,
          0.6625594305323629,
          0.911647742993188,
          0.7878787878787878,
          0.911647742993188,
          0.625,
          0.3999405694676371,
          0.375,
          0.2749405694676371
         ],
         "y": [
          0.768323871496594,
          0.268323871496594,
          1.0724637681159421,
          0.5,
          0.7406101423669093,
          1.0724637681159421,
          0.5093898576330907,
          0.768323871496594,
          0.5,
          0.23167612850340602,
          -0.07246376811594203,
          0.24061014236690928,
          -0.07246376811594203,
          0.2593898576330907
         ]
        }
       ],
       "layout": {
        "height": 180,
        "margin": {
         "b": 0,
         "l": 0,
         "r": 0,
         "t": 0
        },
        "showlegend": false,
        "width": 320,
        "xaxis": {
         "showgrid": false,
         "showticklabels": false,
         "zeroline": false
        },
        "yaxis": {
         "showgrid": false,
         "showticklabels": false,
         "zeroline": false
        }
       }
      },
      "text/html": [
       "<div id=\"01befb50-a3e6-4711-9cfa-8a5ae7236b44\" style=\"height: 180px; width: 320px;\" class=\"plotly-graph-div\"></div><script type=\"text/javascript\">require([\"plotly\"], function(Plotly) { window.PLOTLYENV=window.PLOTLYENV || {};window.PLOTLYENV.BASE_URL=\"https://plot.ly\";Plotly.newPlot(\"01befb50-a3e6-4711-9cfa-8a5ae7236b44\", [{\"line\": {\"color\": \"rgb(0, 0, 0)\", \"width\": 2}, \"hoverinfo\": \"none\", \"mode\": \"lines\", \"y\": [0.5, 1.0, null, 0.5, 0.0, null, 1.0, 1.0, null, 1.0, 0.0, null, 1.0, 0.5, null, 1.0, 1.0, null, 1.0, 0.0, null, 1.0, 0.5, null, 1.0, 0.0, null, 0.5, 0.0, null, 0.0, 0.0, null, 0.0, 0.5, null, 0.0, 0.0, null, 0.0, 0.5, null], \"x\": [0.0, 0.25, null, 0.0, 0.25, null, 0.25, 0.5, null, 0.25, 0.25, null, 0.5, 0.375, null, 0.5, 0.75, null, 0.5, 0.75, null, 0.75, 1.0, null, 0.75, 0.75, null, 1.0, 0.75, null, 0.75, 0.5, null, 0.5, 0.375, null, 0.5, 0.25, null, 0.25, 0.375, null]}, {\"marker\": {\"line\": {\"color\": \"rgb(0, 0, 0)\", \"width\": 2}, \"color\": \"rgb(255, 255, 255)\", \"size\": 20}, \"textposition\": \"middle center\", \"text\": [], \"y\": [0.5, 1.0, 1.0, 1.0, 0.5, 0.0, 0.0, 0.0, 0.5], \"x\": [0.0, 0.25, 0.5, 0.75, 1.0, 0.75, 0.5, 0.25, 0.375], \"mode\": \"markers+text\", \"hoverinfo\": \"none\", \"textfont\": {\"color\": \"rgb(0, 0, 0)\"}}, {\"mode\": \"text\", \"text\": [4, 8, 8, 11, 2, 7, 4, 9, 14, 10, 2, 6, 1, 7], \"y\": [0.768323871496594, 0.268323871496594, 1.0724637681159421, 0.5, 0.7406101423669093, 1.0724637681159421, 0.5093898576330907, 0.768323871496594, 0.5, 0.23167612850340602, -0.07246376811594203, 0.24061014236690928, -0.07246376811594203, 0.2593898576330907], \"x\": [0.08835225700681207, 0.16164774299318793, 0.375, 0.2878787878787879, 0.4750594305323629, 0.625, 0.6625594305323629, 0.911647742993188, 0.7878787878787878, 0.911647742993188, 0.625, 0.3999405694676371, 0.375, 0.2749405694676371], \"textposition\": \"middle center\", \"hoverinfo\": \"none\", \"textfont\": {\"color\": \"rgb(0, 0, 0)\"}}], {\"height\": 180, \"yaxis\": {\"showticklabels\": false, \"showgrid\": false, \"zeroline\": false}, \"showlegend\": false, \"margin\": {\"b\": 0, \"l\": 0, \"r\": 0, \"t\": 0}, \"xaxis\": {\"showticklabels\": false, \"showgrid\": false, \"zeroline\": false}, \"width\": 320}, {\"showLink\": false, \"linkText\": \"Export to plot.ly\", \"displayModeBar\": false})});</script>"
      ],
      "text/vnd.plotly.v1+html": [
       "<div id=\"01befb50-a3e6-4711-9cfa-8a5ae7236b44\" style=\"height: 180px; width: 320px;\" class=\"plotly-graph-div\"></div><script type=\"text/javascript\">require([\"plotly\"], function(Plotly) { window.PLOTLYENV=window.PLOTLYENV || {};window.PLOTLYENV.BASE_URL=\"https://plot.ly\";Plotly.newPlot(\"01befb50-a3e6-4711-9cfa-8a5ae7236b44\", [{\"line\": {\"color\": \"rgb(0, 0, 0)\", \"width\": 2}, \"hoverinfo\": \"none\", \"mode\": \"lines\", \"y\": [0.5, 1.0, null, 0.5, 0.0, null, 1.0, 1.0, null, 1.0, 0.0, null, 1.0, 0.5, null, 1.0, 1.0, null, 1.0, 0.0, null, 1.0, 0.5, null, 1.0, 0.0, null, 0.5, 0.0, null, 0.0, 0.0, null, 0.0, 0.5, null, 0.0, 0.0, null, 0.0, 0.5, null], \"x\": [0.0, 0.25, null, 0.0, 0.25, null, 0.25, 0.5, null, 0.25, 0.25, null, 0.5, 0.375, null, 0.5, 0.75, null, 0.5, 0.75, null, 0.75, 1.0, null, 0.75, 0.75, null, 1.0, 0.75, null, 0.75, 0.5, null, 0.5, 0.375, null, 0.5, 0.25, null, 0.25, 0.375, null]}, {\"marker\": {\"line\": {\"color\": \"rgb(0, 0, 0)\", \"width\": 2}, \"color\": \"rgb(255, 255, 255)\", \"size\": 20}, \"textposition\": \"middle center\", \"text\": [], \"y\": [0.5, 1.0, 1.0, 1.0, 0.5, 0.0, 0.0, 0.0, 0.5], \"x\": [0.0, 0.25, 0.5, 0.75, 1.0, 0.75, 0.5, 0.25, 0.375], \"mode\": \"markers+text\", \"hoverinfo\": \"none\", \"textfont\": {\"color\": \"rgb(0, 0, 0)\"}}, {\"mode\": \"text\", \"text\": [4, 8, 8, 11, 2, 7, 4, 9, 14, 10, 2, 6, 1, 7], \"y\": [0.768323871496594, 0.268323871496594, 1.0724637681159421, 0.5, 0.7406101423669093, 1.0724637681159421, 0.5093898576330907, 0.768323871496594, 0.5, 0.23167612850340602, -0.07246376811594203, 0.24061014236690928, -0.07246376811594203, 0.2593898576330907], \"x\": [0.08835225700681207, 0.16164774299318793, 0.375, 0.2878787878787879, 0.4750594305323629, 0.625, 0.6625594305323629, 0.911647742993188, 0.7878787878787878, 0.911647742993188, 0.625, 0.3999405694676371, 0.375, 0.2749405694676371], \"textposition\": \"middle center\", \"hoverinfo\": \"none\", \"textfont\": {\"color\": \"rgb(0, 0, 0)\"}}], {\"height\": 180, \"yaxis\": {\"showticklabels\": false, \"showgrid\": false, \"zeroline\": false}, \"showlegend\": false, \"margin\": {\"b\": 0, \"l\": 0, \"r\": 0, \"t\": 0}, \"xaxis\": {\"showticklabels\": false, \"showgrid\": false, \"zeroline\": false}, \"width\": 320}, {\"showLink\": false, \"linkText\": \"Export to plot.ly\", \"displayModeBar\": false})});</script>"
      ]
     },
     "metadata": {},
     "output_type": "display_data"
    }
   ],
   "source": [
    "g = sn.load_graph('5-kruskal.gml', has_pos=True)\n",
    "\n",
    "for e in g.edges_iter():\n",
    "    g.edge[e[0]][e[1]]['label'] = g.edge[e[0]][e[1]]['c']\n",
    "\n",
    "sn.show_graph(g, elab=True)"
   ]
  },
  {
   "cell_type": "markdown",
   "metadata": {},
   "source": [
    "## Árvores geradoras mínimas\n",
    "\n",
    "Dizemos que:\n",
    "* um passeio $\\langle n_0, n_1, \\ldots, n_{k-1} \\rangle$ é um **circuito** se $\\langle n_0, n_1, \\ldots, n_{k-2} \\rangle$ é um caminho e $n_0 = n_{k-1}$;\n",
    "* um conjunto de arestas $F$ é uma **floresta** se não existem circuitos no grafo $(N, F)$;\n",
    "* um grafo é **conexo** se para quaisquer nós $s$ e $t$ existe um caminho de $s$ a $t$;\n",
    "* uma floresta $T$ é uma **árvore geradora** se o grafo $(N, T)$ é conexo.\n",
    "\n",
    "O **custo** de uma árvore geradora $T$ é\n",
    "\n",
    "$\\sum_{\\{n, m\\} \\in T} c(n, m)$.\n",
    "\n",
    "Uma árvore geradora é **mínima** se não existe outra árvore geradora de custo menor. Note que podem existir múltiplas árvores geradoras mínimas.\n",
    "\n",
    "## Algoritmo de Kruskal\n",
    "\n",
    "Podemos eficientemente obter uma árvore geradora mínima usando o **algoritmo de Kruskal**. A ideia desse algoritmo é simples: inicializamos uma floresta $F$ como o conjunto vazio e verificamos todas as arestas em ordem não-decrescente de custo. Para cada aresta, adicionamos ela a $F$ se essa adição não formar circuito no grafo $(N, F)$.\n",
    "\n",
    "Vamos especificar uma classe que representa a floresta. Não é necessário entender todos os detalhes dela, apenas que o atributo `f` é o conjunto das arestas e os dois últimos métodos são auto-explicativos."
   ]
  },
  {
   "cell_type": "code",
   "execution_count": 4,
   "metadata": {
    "collapsed": true
   },
   "outputs": [],
   "source": [
    "class Forest(object):\n",
    "    def __init__(self, g):\n",
    "        self.g = g\n",
    "        self.f = set()\n",
    "        for n in g.nodes():\n",
    "            self._make_set(n)\n",
    "\n",
    "    def _make_set(self, x):\n",
    "        g.node[x]['p'] = x\n",
    "        g.node[x]['rank'] = 0\n",
    "\n",
    "    def _union(self, x, y):\n",
    "        self._link(self._find_set(x), self._find_set(y))\n",
    "\n",
    "    def _link(self, x, y):\n",
    "        if g.node[x]['rank'] > g.node[y]['rank']:\n",
    "            g.node[y]['p'] = x\n",
    "        else:\n",
    "            g.node[x]['p'] = y\n",
    "            if g.node[x]['rank'] == g.node[y]['rank']:\n",
    "                g.node[y]['rank'] = g.node[y]['rank'] + 1\n",
    "\n",
    "    def _find_set(self, x):\n",
    "        if x != g.node[x]['p']:\n",
    "            g.node[x]['p'] = self._find_set(g.node[x]['p'])\n",
    "        return g.node[x]['p']\n",
    "\n",
    "    def adding_does_not_form_circuit(self, n, m):\n",
    "        return self._find_set(n) != self._find_set(m)\n",
    "\n",
    "    def add(self, n, m):\n",
    "        self.f.add((n, m))\n",
    "        self._union(n, m)"
   ]
  },
  {
   "cell_type": "markdown",
   "metadata": {},
   "source": [
    "### Exercício\n",
    "\n",
    "Monte uma visualização do algoritmo de Kruskal. Use a classe `Forest`."
   ]
  },
  {
   "cell_type": "code",
   "execution_count": 5,
   "metadata": {
    "collapsed": true
   },
   "outputs": [],
   "source": [
    "def snapshot(g, frames):\n",
    "    for n in g.nodes():\n",
    "        if isinf(g.node[n]['d']):\n",
    "            g.node[n]['label'] = '∞'\n",
    "        else:\n",
    "            g.node[n]['label'] = str(g.node[n]['d'])\n",
    "\n",
    "    frame = sn.generate_frame(g, nlab=True)\n",
    "\n",
    "    frames.append(frame)"
   ]
  }
 ],
 "metadata": {
  "anaconda-cloud": {},
  "kernelspec": {
   "display_name": "Python [default]",
   "language": "python",
   "name": "python3"
  },
  "language_info": {
   "codemirror_mode": {
    "name": "ipython",
    "version": 3
   },
   "file_extension": ".py",
   "mimetype": "text/x-python",
   "name": "python",
   "nbconvert_exporter": "python",
   "pygments_lexer": "ipython3",
   "version": "3.5.2"
  }
 },
 "nbformat": 4,
 "nbformat_minor": 1
}
